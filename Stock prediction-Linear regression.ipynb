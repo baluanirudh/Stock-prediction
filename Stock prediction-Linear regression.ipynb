{
 "cells": [
  {
   "cell_type": "code",
   "execution_count": 2,
   "id": "01618616",
   "metadata": {},
   "outputs": [],
   "source": [
    "import numpy as np\n",
    "import pandas as pd\n",
    "from sklearn import preprocessing\n",
    "from sklearn.model_selection import train_test_split\n",
    "from sklearn.linear_model import LinearRegression"
   ]
  },
  {
   "cell_type": "code",
   "execution_count": 15,
   "id": "cf0cb9dd",
   "metadata": {},
   "outputs": [
    {
     "name": "stdout",
     "output_type": "stream",
     "text": [
      "                       Date       Close\n",
      "0 2021-03-23 00:00:00-04:00  102.648003\n",
      "1 2021-03-24 00:00:00-04:00  102.252998\n",
      "2 2021-03-25 00:00:00-04:00  102.218002\n",
      "3 2021-03-26 00:00:00-04:00  101.777496\n",
      "4 2021-03-29 00:00:00-04:00  102.797501\n"
     ]
    }
   ],
   "source": [
    "import pandas as pd\n",
    "import yfinance as yf\n",
    "import datetime\n",
    "from datetime import date, timedelta\n",
    "import plotly.graph_objects as go\n",
    "import plotly.express as px\n",
    "\n",
    "today = date.today()\n",
    "\n",
    "d1 = today.strftime(\"%Y-%m-%d\")\n",
    "end_date = d1\n",
    "d2 = date.today() - timedelta(days=720)\n",
    "d2 = d2.strftime(\"%Y-%m-%d\")\n",
    "start_date = d2\n",
    "\n",
    "df = yf.download('GOOG', \n",
    "                      start=start_date, \n",
    "                      end=end_date, \n",
    "                      progress=False)\n",
    "df[\"Date\"] = df.index\n",
    "df = df[[\"Date\",\"Close\"]]\n",
    "df.reset_index(drop=True, inplace=True)\n",
    "print(df.head())"
   ]
  },
  {
   "cell_type": "markdown",
   "id": "e28e1b40",
   "metadata": {},
   "source": [
    "preparing the dataset which can fit easily in the Linear Regression model:"
   ]
  },
  {
   "cell_type": "code",
   "execution_count": 16,
   "id": "debeb621",
   "metadata": {},
   "outputs": [],
   "source": [
    "\n",
    "def prepare_data(df,forecast_col,forecast_out,test_size):\n",
    "    label = df[forecast_col].shift(-forecast_out) #creating new column called label with the last 5 rows are nan\n",
    "    X = np.array(df[[forecast_col]]) #creating the feature array\n",
    "    X = preprocessing.scale(X) #processing the feature array\n",
    "    X_lately = X[-forecast_out:] #creating the column i want to use later in the predicting method\n",
    "    X = X[:-forecast_out] # X that will contain the training and testing\n",
    "    label.dropna(inplace=True) #dropping na values\n",
    "    y = np.array(label)  # assigning Y\n",
    "    X_train, X_test, Y_train, Y_test = train_test_split(X, y, test_size=test_size, random_state=0) #cross validation\n",
    "\n",
    "    response = [X_train,X_test , Y_train, Y_test , X_lately]\n",
    "    return response"
   ]
  },
  {
   "cell_type": "markdown",
   "id": "942e89e2",
   "metadata": {},
   "source": [
    "Now we need to prepare three input variables as already prepared in the function created in the above section. \n",
    "We need to declare an input variable mentioning about which column we want to predict. The next variable we need to \n",
    "declare is how much far we want to predict and the last variable that we need to declare is how much should be the \n",
    "size of the test set."
   ]
  },
  {
   "cell_type": "code",
   "execution_count": 17,
   "id": "dbfbb99d",
   "metadata": {},
   "outputs": [],
   "source": [
    "forecast_col = 'Close'\n",
    "forecast_out = 5\n",
    "test_size = 0.2"
   ]
  },
  {
   "cell_type": "markdown",
   "id": "0689930d",
   "metadata": {},
   "source": [
    "spliting the data and fit into the linear regression model:"
   ]
  },
  {
   "cell_type": "code",
   "execution_count": 18,
   "id": "afcc5394",
   "metadata": {},
   "outputs": [
    {
     "data": {
      "text/plain": [
       "LinearRegression()"
      ]
     },
     "execution_count": 18,
     "metadata": {},
     "output_type": "execute_result"
    }
   ],
   "source": [
    "X_train, X_test, Y_train, Y_test , X_lately =prepare_data(df,forecast_col,forecast_out,test_size); #calling the method were the cross validation and data preperation is in\n",
    "learner = LinearRegression() #initializing linear regression model\n",
    "\n",
    "learner.fit(X_train,Y_train) #training the linear regression model"
   ]
  },
  {
   "cell_type": "markdown",
   "id": "aa4ac44b",
   "metadata": {},
   "source": [
    "predicting the output "
   ]
  },
  {
   "cell_type": "code",
   "execution_count": 19,
   "id": "43300c7b",
   "metadata": {},
   "outputs": [
    {
     "name": "stdout",
     "output_type": "stream",
     "text": [
      "{'test_score': 0.9180414448442357, 'forecast_set': array([96.09375649, 94.7230622 , 95.18968359, 93.25516471, 91.65116343])}\n"
     ]
    }
   ],
   "source": [
    "score=learner.score(X_test,Y_test)#testing the linear regression model\n",
    "forecast= learner.predict(X_lately) #set that will contain the forecasted data\n",
    "response={}#creting json object\n",
    "response['test_score']=score\n",
    "response['forecast_set']=forecast\n",
    "\n",
    "print(response)"
   ]
  },
  {
   "cell_type": "code",
   "execution_count": null,
   "id": "8d7f0e86",
   "metadata": {},
   "outputs": [],
   "source": []
  }
 ],
 "metadata": {
  "kernelspec": {
   "display_name": "Python 3 (ipykernel)",
   "language": "python",
   "name": "python3"
  },
  "language_info": {
   "codemirror_mode": {
    "name": "ipython",
    "version": 3
   },
   "file_extension": ".py",
   "mimetype": "text/x-python",
   "name": "python",
   "nbconvert_exporter": "python",
   "pygments_lexer": "ipython3",
   "version": "3.9.12"
  }
 },
 "nbformat": 4,
 "nbformat_minor": 5
}
